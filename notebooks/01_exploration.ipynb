{
 "cells": [
  {
   "cell_type": "markdown",
   "id": "0b3d3eaf",
   "metadata": {},
   "source": [
    "# 📊 Megaline Plan Predictor — Data Exploration\n",
    "\n",
    "## Project Goal\n",
    "Megaline, a mobile carrier, wants to recommend one of its new plans — **Smart** or **Ultra** — to subscribers based on their monthly usage.  \n",
    "\n",
    "This notebook focuses on **exploring the subscriber behavior data**, understanding feature distributions, and preparing the dataset for modeling.  \n",
    "\n",
    "### Key Objectives\n",
    "1. Inspect the dataset for structure, types, and missing values.\n",
    "2. Understand the distribution of the target variable (`is_ultra`).\n",
    "3. Check for duplicates or anomalies in the data.\n",
    "4. Prepare the data for train/validation/test splits in the next steps."
   ]
  },
  {
   "cell_type": "code",
   "execution_count": 12,
   "id": "fa98021e",
   "metadata": {},
   "outputs": [],
   "source": [
    "import pandas as pd \n",
    "import matplotlib.pyplot as plt\n",
    "import seaborn as sns\n",
    "import numpy as np\n",
    "import scipy.stats as stats\n",
    "from sklearn.model_selection import train_test_split \n",
    "from sklearn.linear_model import LogisticRegression\n",
    "from sklearn.metrics import accuracy_score, confusion_matrix, classification_report\n",
    "from sklearn.tree import DecisionTreeClassifier\n",
    "from sklearn.metrics import accuracy_score\n",
    "from sklearn.ensemble import RandomForestClassifier\n",
    "from sklearn.metrics import accuracy_score\n"
   ]
  },
  {
   "cell_type": "code",
   "execution_count": 2,
   "id": "2fb12e83",
   "metadata": {},
   "outputs": [
    {
     "data": {
      "text/html": [
       "<div>\n",
       "<style scoped>\n",
       "    .dataframe tbody tr th:only-of-type {\n",
       "        vertical-align: middle;\n",
       "    }\n",
       "\n",
       "    .dataframe tbody tr th {\n",
       "        vertical-align: top;\n",
       "    }\n",
       "\n",
       "    .dataframe thead th {\n",
       "        text-align: right;\n",
       "    }\n",
       "</style>\n",
       "<table border=\"1\" class=\"dataframe\">\n",
       "  <thead>\n",
       "    <tr style=\"text-align: right;\">\n",
       "      <th></th>\n",
       "      <th>calls</th>\n",
       "      <th>minutes</th>\n",
       "      <th>messages</th>\n",
       "      <th>mb_used</th>\n",
       "      <th>is_ultra</th>\n",
       "    </tr>\n",
       "  </thead>\n",
       "  <tbody>\n",
       "    <tr>\n",
       "      <th>0</th>\n",
       "      <td>40.0</td>\n",
       "      <td>311.90</td>\n",
       "      <td>83.0</td>\n",
       "      <td>19915.42</td>\n",
       "      <td>0</td>\n",
       "    </tr>\n",
       "    <tr>\n",
       "      <th>1</th>\n",
       "      <td>85.0</td>\n",
       "      <td>516.75</td>\n",
       "      <td>56.0</td>\n",
       "      <td>22696.96</td>\n",
       "      <td>0</td>\n",
       "    </tr>\n",
       "    <tr>\n",
       "      <th>2</th>\n",
       "      <td>77.0</td>\n",
       "      <td>467.66</td>\n",
       "      <td>86.0</td>\n",
       "      <td>21060.45</td>\n",
       "      <td>0</td>\n",
       "    </tr>\n",
       "    <tr>\n",
       "      <th>3</th>\n",
       "      <td>106.0</td>\n",
       "      <td>745.53</td>\n",
       "      <td>81.0</td>\n",
       "      <td>8437.39</td>\n",
       "      <td>1</td>\n",
       "    </tr>\n",
       "    <tr>\n",
       "      <th>4</th>\n",
       "      <td>66.0</td>\n",
       "      <td>418.74</td>\n",
       "      <td>1.0</td>\n",
       "      <td>14502.75</td>\n",
       "      <td>0</td>\n",
       "    </tr>\n",
       "    <tr>\n",
       "      <th>5</th>\n",
       "      <td>58.0</td>\n",
       "      <td>344.56</td>\n",
       "      <td>21.0</td>\n",
       "      <td>15823.37</td>\n",
       "      <td>0</td>\n",
       "    </tr>\n",
       "    <tr>\n",
       "      <th>6</th>\n",
       "      <td>57.0</td>\n",
       "      <td>431.64</td>\n",
       "      <td>20.0</td>\n",
       "      <td>3738.90</td>\n",
       "      <td>1</td>\n",
       "    </tr>\n",
       "    <tr>\n",
       "      <th>7</th>\n",
       "      <td>15.0</td>\n",
       "      <td>132.40</td>\n",
       "      <td>6.0</td>\n",
       "      <td>21911.60</td>\n",
       "      <td>0</td>\n",
       "    </tr>\n",
       "    <tr>\n",
       "      <th>8</th>\n",
       "      <td>7.0</td>\n",
       "      <td>43.39</td>\n",
       "      <td>3.0</td>\n",
       "      <td>2538.67</td>\n",
       "      <td>1</td>\n",
       "    </tr>\n",
       "    <tr>\n",
       "      <th>9</th>\n",
       "      <td>90.0</td>\n",
       "      <td>665.41</td>\n",
       "      <td>38.0</td>\n",
       "      <td>17358.61</td>\n",
       "      <td>0</td>\n",
       "    </tr>\n",
       "  </tbody>\n",
       "</table>\n",
       "</div>"
      ],
      "text/plain": [
       "   calls  minutes  messages   mb_used  is_ultra\n",
       "0   40.0   311.90      83.0  19915.42         0\n",
       "1   85.0   516.75      56.0  22696.96         0\n",
       "2   77.0   467.66      86.0  21060.45         0\n",
       "3  106.0   745.53      81.0   8437.39         1\n",
       "4   66.0   418.74       1.0  14502.75         0\n",
       "5   58.0   344.56      21.0  15823.37         0\n",
       "6   57.0   431.64      20.0   3738.90         1\n",
       "7   15.0   132.40       6.0  21911.60         0\n",
       "8    7.0    43.39       3.0   2538.67         1\n",
       "9   90.0   665.41      38.0  17358.61         0"
      ]
     },
     "execution_count": 2,
     "metadata": {},
     "output_type": "execute_result"
    }
   ],
   "source": [
    "df = pd.read_csv('../data/users_behavior.csv')\n",
    "df.head(10)"
   ]
  },
  {
   "cell_type": "code",
   "execution_count": 3,
   "id": "d94bfc87",
   "metadata": {},
   "outputs": [
    {
     "name": "stdout",
     "output_type": "stream",
     "text": [
      "Data Shape (rows, columns): (3214, 5)\n",
      "\n",
      "Columns info:\n",
      "<class 'pandas.core.frame.DataFrame'>\n",
      "RangeIndex: 3214 entries, 0 to 3213\n",
      "Data columns (total 5 columns):\n",
      " #   Column    Non-Null Count  Dtype  \n",
      "---  ------    --------------  -----  \n",
      " 0   calls     3214 non-null   float64\n",
      " 1   minutes   3214 non-null   float64\n",
      " 2   messages  3214 non-null   float64\n",
      " 3   mb_used   3214 non-null   float64\n",
      " 4   is_ultra  3214 non-null   int64  \n",
      "dtypes: float64(4), int64(1)\n",
      "memory usage: 125.7 KB\n",
      "None\n",
      "\n",
      "Missing Values:\n",
      "calls       0\n",
      "minutes     0\n",
      "messages    0\n",
      "mb_used     0\n",
      "is_ultra    0\n",
      "dtype: int64\n"
     ]
    }
   ],
   "source": [
    "# check shape, info, and missing values\n",
    "print(\"Data Shape (rows, columns):\", df.shape)\n",
    "\n",
    "print(\"\\nColumns info:\")\n",
    "print(df.info())\n",
    "\n",
    "print(\"\\nMissing Values:\")\n",
    "print(df.isnull().sum())"
   ]
  },
  {
   "cell_type": "markdown",
   "id": "bfc354cd",
   "metadata": {},
   "source": [
    "### Observations\n",
    "\n",
    "- Dataset contains 3214 rows and 5 columns.\n",
    "- No missing values.\n",
    "- Target variable `is_ultra` is already binary (0 = Smart, 1 = Ultra)."
   ]
  },
  {
   "cell_type": "code",
   "execution_count": 4,
   "id": "c197893d",
   "metadata": {},
   "outputs": [
    {
     "name": "stdout",
     "output_type": "stream",
     "text": [
      "target_counts:/n is_ultra\n",
      "0    2229\n",
      "1     985\n",
      "Name: count, dtype: int64\n"
     ]
    },
    {
     "data": {
      "image/png": "[encoded data removed]",
      "text/plain": [
       "<Figure size 640x480 with 1 Axes>"
      ]
     },
     "metadata": {},
     "output_type": "display_data"
    }
   ],
   "source": [
    "# explore target variable 'is_ultra'\n",
    "# This helps us undestand how many users are on each plan (0 = smart, 1 = ultra)\n",
    "\n",
    "#count the number of users in each plan \n",
    "target_counts = df['is_ultra'].value_counts()\n",
    "print(\"target_counts:/n\", target_counts)\n",
    "\n",
    "# Create a bar plot\n",
    "target_counts.plot(kind='bar', color=['skyblue', 'salmon'])\n",
    "plt.title('Distribution of is_ultra')\n",
    "plt.xlabel(\"plan (0 = smart, 1 = ultra)\")\n",
    "plt.ylabel(\"number of users\")\n",
    "plt.show()"
   ]
  },
  {
   "cell_type": "markdown",
   "id": "892c5384",
   "metadata": {},
   "source": [
    "### Observations on Target Variable\n",
    "\n",
    "- The target variable `is_ultra` represents the plan type: 0 = Smart, 1 = Ultra.\n",
    "- From the counts and bar chart, we can see whether the dataset is balanced or skewed.\n",
    "- If one class dominates, we may need to consider techniques like:\n",
    "  - Stratified train/validation/test split\n",
    "  - Resampling methods (oversampling, undersampling)\n",
    "  - Using evaluation metrics that handle imbalance (like F1-score)\n",
    "- Understanding class distribution is crucial because it affects model performance and interpretation."
   ]
  },
  {
   "cell_type": "code",
   "execution_count": 5,
   "id": "da0f3de4",
   "metadata": {},
   "outputs": [],
   "source": [
    "# split dataset by plan\n",
    "smart_users = df[df['is_ultra'] == 0]\n",
    "ultra_users = df[df['is_ultra'] == 1]"
   ]
  },
  {
   "cell_type": "code",
   "execution_count": 6,
   "id": "4bd4ee96",
   "metadata": {},
   "outputs": [
    {
     "data": {
      "image/png": "[encoded data removed]",
      "text/plain": [
       "<Figure size 1600x1200 with 4 Axes>"
      ]
     },
     "metadata": {},
     "output_type": "display_data"
    }
   ],
   "source": [
    "# Explore All Features Together \n",
    "\n",
    "features = ['calls', 'minutes', 'messages', 'mb_used']\n",
    "\n",
    "plt.figure(figsize=(16, 12)) #Large figure for 4 subplots\n",
    "\n",
    "for i, feature in enumerate(features, 1):\n",
    "    plt.subplot(2, 2, i)\n",
    "    plt.hist(smart_users[feature], bins=30 , alpha=0.6, label='smart (0)')\n",
    "    plt.hist(ultra_users[feature], bins=30, alpha=0.6, label='Ultra (1)')\n",
    "    plt.title(f'Distribution Of {feature} by plan')\n",
    "    plt.xlabel(feature)\n",
    "    plt.ylabel('Number of Users')\n",
    "    plt.legend()\n",
    "\n",
    "plt.tight_layout()\n",
    "plt.show()"
   ]
  },
  {
   "cell_type": "markdown",
   "id": "aafe2793",
   "metadata": {},
   "source": [
    "### Observations on All Features\n",
    "\n",
    "- **calls:** Slight difference between plans; Smart users spread wider.\n",
    "- **minutes:** Ultra users tend to have longer call durations.\n",
    "- **messages:** Smart users generally send fewer messages.\n",
    "- **mb_used:** Clear separation; Ultra users use more data.\n",
    "- **Conclusion:** All features are useful, but `mb_used` is strongest. Using all features together is recommended."
   ]
  },
  {
   "cell_type": "code",
   "execution_count": 7,
   "id": "f75b73cc",
   "metadata": {},
   "outputs": [
    {
     "name": "stdout",
     "output_type": "stream",
     "text": [
      "Training set shape: (1928, 4) (1928,)\n",
      "Validation set shape: (643, 4) (643,)\n",
      "Test set shape: (643, 4) (643,)\n"
     ]
    }
   ],
   "source": [
    "# spit dataset\n",
    "# features and target\n",
    "x = df.drop('is_ultra', axis=1)\n",
    "y = df['is_ultra']\n",
    "\n",
    "# split off test set (20%)\n",
    "x_temp, x_test, y_temp, y_test = train_test_split(x, y, test_size=0.2, random_state=42, stratify=y)\n",
    "\n",
    "#split remaining 60% and validation 20%\n",
    "x_train, x_val, y_train, y_val = train_test_split(\n",
    "    x_temp, y_temp, test_size=0.25, random_state=42, stratify=y_temp\n",
    "    )\n",
    "\n",
    "# confirm Shapes\n",
    "print(\"Training set shape:\", x_train.shape, y_train.shape)\n",
    "print(\"Validation set shape:\", x_val.shape, y_val.shape)\n",
    "print(\"Test set shape:\", x_test.shape, y_test.shape)"
   ]
  },
  {
   "cell_type": "markdown",
   "id": "b725db6a",
   "metadata": {},
   "source": [
    "### Data Splitting Observations\n",
    "\n",
    "- Train (60%): Used to train models\n",
    "- Validation (20%): Tune hyperparameters\n",
    "- Test (20%): Final evaluation\n",
    "- Stratification ensures class balance across all sets"
   ]
  },
  {
   "cell_type": "code",
   "execution_count": 8,
   "id": "2c1c0175",
   "metadata": {},
   "outputs": [
    {
     "name": "stdout",
     "output_type": "stream",
     "text": [
      "Validation Accuracy: 0.7449\n",
      "\n",
      "Confusion Matrix:\n",
      "[[438   8]\n",
      " [156  41]]\n",
      "\n",
      "Classification Report:\n",
      "              precision    recall  f1-score   support\n",
      "\n",
      "           0       0.74      0.98      0.84       446\n",
      "           1       0.84      0.21      0.33       197\n",
      "\n",
      "    accuracy                           0.74       643\n",
      "   macro avg       0.79      0.60      0.59       643\n",
      "weighted avg       0.77      0.74      0.69       643\n",
      "\n"
     ]
    }
   ],
   "source": [
    "# Build and Train Logistic Regression Model \n",
    "\n",
    "# initialize model \n",
    "log_reg = LogisticRegression(random_state=42, max_iter=1000) # max_iter increased to ensure convergence\n",
    "\n",
    "# fit model on training set\n",
    "log_reg.fit(x_train, y_train)\n",
    "\n",
    "# predict on the validation set\n",
    "y_val_pred = log_reg.predict(x_val)\n",
    "\n",
    "# evaluate accuracy \n",
    "val_accuracy = accuracy_score(y_val, y_val_pred)\n",
    "print(f\"Validation Accuracy: {val_accuracy:.4f}\")\n",
    "\n",
    "# confusion matrix\n",
    "print(\"\\nConfusion Matrix:\")\n",
    "print(confusion_matrix(y_val, y_val_pred))\n",
    "\n",
    "# detailed Classification Report \n",
    "print(\"\\nClassification Report:\")\n",
    "print(classification_report(y_val, y_val_pred))"
   ]
  },
  {
   "cell_type": "markdown",
   "id": "e387727d",
   "metadata": {},
   "source": [
    "### Logistic Regression Observations\n",
    "\n",
    "- **Validation Accuracy:** This shows how well the model predicts plan choice on unseen data.\n",
    "- **Confusion Matrix:** Helps identify where the model makes mistakes (False Positives vs False Negatives).\n",
    "- **Classification Report:** Provides precision, recall, and F1-score for each class (Smart vs Ultra).\n",
    "\n",
    "**Next Steps:**\n",
    "- If accuracy is below the project threshold (0.75), we will try other models like Decision Tree or Random Forest.\n",
    "- We can also tune hyperparameters to improve performance."
   ]
  },
  {
   "cell_type": "code",
   "execution_count": 9,
   "id": "4946a106",
   "metadata": {},
   "outputs": [
    {
     "name": "stdout",
     "output_type": "stream",
     "text": [
      "Decision Tree (default parameters):\n",
      "Training Accuracy: 1.000\n",
      "Validation Accuracy: 0.715\n"
     ]
    }
   ],
   "source": [
    "# initialize Decision Tree Classifier\n",
    "# we set random_state for reproducibility\n",
    "dt_model = DecisionTreeClassifier(random_state=42)\n",
    "\n",
    "# Train the model on the training set \n",
    "dt_model.fit(x_train, y_train)\n",
    "\n",
    "# Make predictions on both training and validation sets\n",
    "y_train_pred = dt_model.predict(x_train)\n",
    "y_valid_pred = dt_model.predict(x_val)\n",
    "\n",
    "# Evaluate accuracy\n",
    "train_accuracy = accuracy_score(y_train, y_train_pred)\n",
    "valid_accuracy = accuracy_score(y_val, y_valid_pred)\n",
    "\n",
    "print(f\"Decision Tree (default parameters):\")\n",
    "print(f\"Training Accuracy: {train_accuracy:.3f}\")\n",
    "print(f\"Validation Accuracy: {valid_accuracy:.3f}\")"
   ]
  },
  {
   "cell_type": "markdown",
   "id": "7c46b489",
   "metadata": {},
   "source": [
    "## Decision Tree Classifier (Default Parameters)\n",
    "\n",
    "**Results:**\n",
    "- Training Accuracy: **1.000 (100%)**\n",
    "- Validation Accuracy: **0.715 (71.5%)**\n",
    "\n",
    "**Interpretation:**\n",
    "The Decision Tree model with default parameters achieved a perfect score on the training set.  \n",
    "However, its performance dropped on the validation set, achieving only ~71.5% accuracy.  \n",
    "\n",
    "This large gap indicates that the model has **overfit** the training data:\n",
    "- It memorized patterns specific to the training examples.\n",
    "- It failed to generalize well to unseen data.\n",
    "\n",
    "**Conclusion:**\n",
    "While Decision Trees are powerful, they require **regularization** (limiting tree depth, controlling minimum samples per leaf, or pruning) to reduce overfitting and improve generalization. The next step will be to tune hyperparameters to find a more balanced model."
   ]
  },
  {
   "cell_type": "code",
   "execution_count": 11,
   "id": "1f010240",
   "metadata": {},
   "outputs": [
    {
     "name": "stdout",
     "output_type": "stream",
     "text": [
      "Decision Tree (default parameters):\n",
      "Training Accuracy: 1.000\n",
      "Validation Accuracy: 0.715\n",
      "\n",
      "---- Decision Tree Tuning: Varying Max Depth ----\n",
      "max_depth= 1 | Train Accuracy: 1.000 | Validation Accuracy: 0.715\n",
      "max_depth= 2 | Train Accuracy: 1.000 | Validation Accuracy: 0.715\n",
      "max_depth= 3 | Train Accuracy: 1.000 | Validation Accuracy: 0.715\n",
      "max_depth= 4 | Train Accuracy: 1.000 | Validation Accuracy: 0.715\n",
      "max_depth= 5 | Train Accuracy: 1.000 | Validation Accuracy: 0.715\n",
      "max_depth= 6 | Train Accuracy: 1.000 | Validation Accuracy: 0.715\n",
      "max_depth= 7 | Train Accuracy: 1.000 | Validation Accuracy: 0.715\n",
      "max_depth= 8 | Train Accuracy: 1.000 | Validation Accuracy: 0.715\n",
      "max_depth= 9 | Train Accuracy: 1.000 | Validation Accuracy: 0.715\n",
      "max_depth=10 | Train Accuracy: 1.000 | Validation Accuracy: 0.715\n"
     ]
    }
   ],
   "source": [
    "# Train the model on the training set \n",
    "dt_model.fit(x_train, y_train)\n",
    "\n",
    "# Make predictions on both training and validation sets\n",
    "y_train_pred = dt_model.predict(x_train)\n",
    "y_valid_pred = dt_model.predict(x_val)\n",
    "\n",
    "# Evaluate accuracy\n",
    "train_accuracy = accuracy_score(y_train, y_train_pred)\n",
    "valid_accuracy = accuracy_score(y_val, y_valid_pred)\n",
    "\n",
    "print(f\"Decision Tree (default parameters):\")\n",
    "print(f\"Training Accuracy: {train_accuracy:.3f}\")\n",
    "print(f\"Validation Accuracy: {valid_accuracy:.3f}\")\n",
    "\n",
    "print(\"\\n---- Decision Tree Tuning: Varying Max Depth ----\")\n",
    "# Try different max_depth values to see their effect on accuracy\n",
    "for depth in range(1, 11):\n",
    "    model = DecisionTreeClassifier(max_depth=depth, random_state=42)\n",
    "    model.fit(x_train, y_train)\n",
    "    \n",
    "    # accuracy on training data\n",
    "    train_acc = dt_model.score(x_train, y_train)\n",
    "    \n",
    "    # accuracy on validation data\n",
    "    val_acc = dt_model.score(x_val, y_val)\n",
    "\n",
    "    print(f\"max_depth={depth:2} | Train Accuracy: {train_acc:.3f} | Validation Accuracy: {val_acc:.3f}\")"
   ]
  },
  {
   "cell_type": "markdown",
   "id": "c3f2c518",
   "metadata": {},
   "source": [
    "## Decision Tree Tuning (max_depth)\n",
    "\n",
    "**Results:**\n",
    "- Training accuracy = **1.000** for all tested depths (1–10).\n",
    "- Validation accuracy = **0.715** for all tested depths.\n",
    "\n",
    "**Interpretation:**\n",
    "- The Decision Tree achieved perfect training accuracy regardless of tree depth, which indicates **overfitting**.\n",
    "- The validation accuracy plateaued at ~71.5%, which is below the project’s required threshold of 0.75.\n",
    "- Increasing tree depth did not improve generalization. This suggests that a single Decision Tree may not be the best model for this dataset.\n",
    "\n",
    "**Conclusion & Next Step:**\n",
    "- Since the Decision Tree cannot reach the required accuracy, we should explore more robust models like **Random Forest** or try hyperparameter tuning beyond max_depth (e.g., `min_samples_split`, `min_samples_leaf`, `max_features`).\n",
    "- Random Forest, as an ensemble method, may reduce overfitting and improve validation performance.\n"
   ]
  },
  {
   "cell_type": "code",
   "execution_count": 14,
   "id": "43c23e4f",
   "metadata": {},
   "outputs": [
    {
     "name": "stdout",
     "output_type": "stream",
     "text": [
      "Random Forest (default parameters):\n",
      "Training Accuracy: 1.000\n",
      "Validation Accuracy: 0.782\n"
     ]
    }
   ],
   "source": [
    "#traain Random Forest Classifier\n",
    "rf_model = RandomForestClassifier(random_state=42)\n",
    "\n",
    "# Fit Model on training set\n",
    "rf_model.fit(x_train, y_train)\n",
    "\n",
    "# Predictions \n",
    "y_train_pred = rf_model.predict(x_train)\n",
    "y_val_pred = rf_model.predict(x_val)\n",
    "\n",
    "# Evaluate accuracy\n",
    "train_acc = accuracy_score(y_train, y_train_pred)\n",
    "valid_acc = accuracy_score(y_val, y_val_pred)\n",
    "\n",
    "print(\"Random Forest (default parameters):\")\n",
    "print(f\"Training Accuracy: {train_acc:.3f}\")\n",
    "print(f\"Validation Accuracy: {valid_acc:.3f}\")"
   ]
  },
  {
   "cell_type": "markdown",
   "id": "92fbc6f0",
   "metadata": {},
   "source": [
    "## Random Forest (Default Parameters)\n",
    "\n",
    "**Results:**\n",
    "- Training accuracy: 1.000 (100%)\n",
    "- Validation accuracy:0.782 (78.2%)\n",
    "\n",
    "**Interpretation:**\n",
    "- Random Forest is an ensemble method that builds multiple decision trees and averages their results.\n",
    "- This reduces overfitting compared to a single Decision Tree.\n",
    "- The validation accuracy will tell us whether Random Forest improves generalization.\n"
   ]
  },
  {
   "cell_type": "code",
   "execution_count": 15,
   "id": "8190e7be",
   "metadata": {},
   "outputs": [
    {
     "name": "stdout",
     "output_type": "stream",
     "text": [
      "Final Test Accuracy: 0.810\n",
      "\n",
      "Confusion Matrix:\n",
      "[[410  36]\n",
      " [ 86 111]]\n",
      "\n",
      "Classification Report:\n",
      "              precision    recall  f1-score   support\n",
      "\n",
      "           0       0.83      0.92      0.87       446\n",
      "           1       0.76      0.56      0.65       197\n",
      "\n",
      "    accuracy                           0.81       643\n",
      "   macro avg       0.79      0.74      0.76       643\n",
      "weighted avg       0.80      0.81      0.80       643\n",
      "\n"
     ]
    }
   ],
   "source": [
    "# Use the Random Forest model we already trained\n",
    "y_test_pred = rf_model.predict(x_test)\n",
    "\n",
    "test_accuracy = accuracy_score(y_test, y_test_pred)\n",
    "print(f\"Final Test Accuracy: {test_accuracy:.3f}\")\n",
    "\n",
    "# sanity check\n",
    "print(\"\\nConfusion Matrix:\")\n",
    "print(confusion_matrix(y_test, y_test_pred))\n",
    "\n",
    "print(\"\\nClassification Report:\")\n",
    "print(classification_report(y_test, y_test_pred))\n"
   ]
  },
  {
   "cell_type": "markdown",
   "id": "6bdffb9a",
   "metadata": {},
   "source": [
    "## Final Project Conclusion\n",
    "\n",
    "- The goal was to build a model that recommends Megaline’s Smart (0) or Ultra (1) plans.\n",
    "- We explored the dataset, checked distributions, and split into train/validation/test sets.\n",
    "- Three models were tested:\n",
    "  - Logistic Regression → validation accuracy below 0.75\n",
    "  - Decision Tree → severe overfitting, validation accuracy ~0.715\n",
    "  - Random Forest → best performance, validation accuracy ~0.782\n",
    "- Final Test Accuracy: **0.810** (81%)\n",
    "\n",
    "### Key Insights:\n",
    "- `mb_used` is the strongest predictor, but using all features together improved accuracy.\n",
    "- Decision Trees overfit quickly; Random Forest generalized much better.\n",
    "- Project requirement (≥ 0.75 accuracy) was successfully met ✅\n",
    "\n"
   ]
  },
  {
   "cell_type": "markdown",
   "id": "98e7062b",
   "metadata": {},
   "source": [
    "## For Reviewer:\n",
    "* please check out my git hub as well, Im trying to get a hang of also using it and will keep uploading there as well "
   ]
  },
  {
   "cell_type": "code",
   "execution_count": null,
   "id": "ac7f32d3",
   "metadata": {},
   "outputs": [],
   "source": []
  }
 ],
 "metadata": {
  "kernelspec": {
   "display_name": "venv (3.13.3)",
   "language": "python",
   "name": "python3"
  },
  "language_info": {
   "codemirror_mode": {
    "name": "ipython",
    "version": 3
   },
   "file_extension": ".py",
   "mimetype": "text/x-python",
   "name": "python",
   "nbconvert_exporter": "python",
   "pygments_lexer": "ipython3",
   "version": "3.13.3"
  }
 },
 "nbformat": 4,
 "nbformat_minor": 5
}
