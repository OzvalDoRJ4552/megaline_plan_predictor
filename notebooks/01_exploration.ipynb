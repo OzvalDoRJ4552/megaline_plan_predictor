{
 "cells": [
  {
   "cell_type": "markdown",
   "id": "0b3d3eaf",
   "metadata": {},
   "source": [
    "# 📊 Megaline Plan Predictor — Data Exploration\n",
    "\n",
    "## Project Goal\n",
    "Megaline, a mobile carrier, wants to recommend one of its new plans — **Smart** or **Ultra** — to subscribers based on their monthly usage.  \n",
    "\n",
    "This notebook focuses on **exploring the subscriber behavior data**, understanding feature distributions, and preparing the dataset for modeling.  \n",
    "\n",
    "### Key Objectives\n",
    "1. Inspect the dataset for structure, types, and missing values.\n",
    "2. Understand the distribution of the target variable (`is_ultra`).\n",
    "3. Check for duplicates or anomalies in the data.\n",
    "4. Prepare the data for train/validation/test splits in the next steps."
   ]
  },
  {
   "cell_type": "code",
   "execution_count": 3,
   "id": "fa98021e",
   "metadata": {},
   "outputs": [
    {
     "ename": "ModuleNotFoundError",
     "evalue": "No module named 'pandas'",
     "output_type": "error",
     "traceback": [
      "\u001b[31m---------------------------------------------------------------------------\u001b[39m",
      "\u001b[31mModuleNotFoundError\u001b[39m                       Traceback (most recent call last)",
      "\u001b[36mCell\u001b[39m\u001b[36m \u001b[39m\u001b[32mIn[3]\u001b[39m\u001b[32m, line 1\u001b[39m\n\u001b[32m----> \u001b[39m\u001b[32m1\u001b[39m \u001b[38;5;28;01mimport\u001b[39;00m\u001b[38;5;250m \u001b[39m\u001b[34;01mpandas\u001b[39;00m\u001b[38;5;250m \u001b[39m\u001b[38;5;28;01mas\u001b[39;00m\u001b[38;5;250m \u001b[39m\u001b[34;01mpd\u001b[39;00m \n",
      "\u001b[31mModuleNotFoundError\u001b[39m: No module named 'pandas'"
     ]
    }
   ],
   "source": [
    "import pandas as pd "
   ]
  },
  {
   "cell_type": "code",
   "execution_count": null,
   "id": "2fb12e83",
   "metadata": {},
   "outputs": [],
   "source": []
  }
 ],
 "metadata": {
  "kernelspec": {
   "display_name": "venv (3.13.3)",
   "language": "python",
   "name": "python3"
  },
  "language_info": {
   "codemirror_mode": {
    "name": "ipython",
    "version": 3
   },
   "file_extension": ".py",
   "mimetype": "text/x-python",
   "name": "python",
   "nbconvert_exporter": "python",
   "pygments_lexer": "ipython3",
   "version": "3.13.3"
  }
 },
 "nbformat": 4,
 "nbformat_minor": 5
}
